{
  "nbformat": 4,
  "nbformat_minor": 0,
  "metadata": {
    "colab": {
      "provenance": []
    },
    "kernelspec": {
      "name": "python3",
      "display_name": "Python 3"
    },
    "language_info": {
      "name": "python"
    }
  },
  "cells": [
    {
      "cell_type": "code",
      "execution_count": null,
      "metadata": {
        "id": "r_0KSYgAwsVb"
      },
      "outputs": [],
      "source": [
        "import pandas as pd"
      ]
    },
    {
      "cell_type": "code",
      "source": [
        "from google.colab import drive\n",
        "drive.mount('/content/drive')"
      ],
      "metadata": {
        "colab": {
          "base_uri": "https://localhost:8080/"
        },
        "id": "fT_En6q1xFum",
        "outputId": "532566ac-bd5e-4eff-d567-edb6fd209b71"
      },
      "execution_count": null,
      "outputs": [
        {
          "output_type": "stream",
          "name": "stdout",
          "text": [
            "Mounted at /content/drive\n"
          ]
        }
      ]
    },
    {
      "cell_type": "code",
      "source": [
        "df=pd.read_excel(\"/content/drive/My Drive/Colab Notebooks/OlympicAthletes.xlsx\")"
      ],
      "metadata": {
        "id": "XeosuVAMxSOs"
      },
      "execution_count": null,
      "outputs": []
    },
    {
      "cell_type": "code",
      "source": [
        "df.head()"
      ],
      "metadata": {
        "colab": {
          "base_uri": "https://localhost:8080/",
          "height": 206
        },
        "id": "8CRUAHWTxdKs",
        "outputId": "452aaa42-9b37-4aee-c9e3-7370e9b4fb88"
      },
      "execution_count": null,
      "outputs": [
        {
          "output_type": "execute_result",
          "data": {
            "text/plain": [
              "            Athlete   Age        Country  Year Closing Ceremony Date  \\\n",
              "0    Michael Phelps  23.0  United States  2008            2008-08-24   \n",
              "1    Michael Phelps  19.0  United States  2004            2004-08-29   \n",
              "2    Michael Phelps  27.0  United States  2012            2012-08-12   \n",
              "3  Natalie Coughlin  25.0  United States  2008            2008-08-24   \n",
              "4     Aleksey Nemov  24.0         Russia  2000            2000-10-01   \n",
              "\n",
              "        Sport  Gold Medals  Silver Medals  Bronze Medals  Total Medals  \n",
              "0    Swimming            8              0              0             8  \n",
              "1    Swimming            6              0              2             8  \n",
              "2    Swimming            4              2              0             6  \n",
              "3    Swimming            1              2              3             6  \n",
              "4  Gymnastics            2              1              3             6  "
            ],
            "text/html": [
              "\n",
              "  <div id=\"df-595d18aa-3148-4299-ad53-854738e929bd\">\n",
              "    <div class=\"colab-df-container\">\n",
              "      <div>\n",
              "<style scoped>\n",
              "    .dataframe tbody tr th:only-of-type {\n",
              "        vertical-align: middle;\n",
              "    }\n",
              "\n",
              "    .dataframe tbody tr th {\n",
              "        vertical-align: top;\n",
              "    }\n",
              "\n",
              "    .dataframe thead th {\n",
              "        text-align: right;\n",
              "    }\n",
              "</style>\n",
              "<table border=\"1\" class=\"dataframe\">\n",
              "  <thead>\n",
              "    <tr style=\"text-align: right;\">\n",
              "      <th></th>\n",
              "      <th>Athlete</th>\n",
              "      <th>Age</th>\n",
              "      <th>Country</th>\n",
              "      <th>Year</th>\n",
              "      <th>Closing Ceremony Date</th>\n",
              "      <th>Sport</th>\n",
              "      <th>Gold Medals</th>\n",
              "      <th>Silver Medals</th>\n",
              "      <th>Bronze Medals</th>\n",
              "      <th>Total Medals</th>\n",
              "    </tr>\n",
              "  </thead>\n",
              "  <tbody>\n",
              "    <tr>\n",
              "      <th>0</th>\n",
              "      <td>Michael Phelps</td>\n",
              "      <td>23.0</td>\n",
              "      <td>United States</td>\n",
              "      <td>2008</td>\n",
              "      <td>2008-08-24</td>\n",
              "      <td>Swimming</td>\n",
              "      <td>8</td>\n",
              "      <td>0</td>\n",
              "      <td>0</td>\n",
              "      <td>8</td>\n",
              "    </tr>\n",
              "    <tr>\n",
              "      <th>1</th>\n",
              "      <td>Michael Phelps</td>\n",
              "      <td>19.0</td>\n",
              "      <td>United States</td>\n",
              "      <td>2004</td>\n",
              "      <td>2004-08-29</td>\n",
              "      <td>Swimming</td>\n",
              "      <td>6</td>\n",
              "      <td>0</td>\n",
              "      <td>2</td>\n",
              "      <td>8</td>\n",
              "    </tr>\n",
              "    <tr>\n",
              "      <th>2</th>\n",
              "      <td>Michael Phelps</td>\n",
              "      <td>27.0</td>\n",
              "      <td>United States</td>\n",
              "      <td>2012</td>\n",
              "      <td>2012-08-12</td>\n",
              "      <td>Swimming</td>\n",
              "      <td>4</td>\n",
              "      <td>2</td>\n",
              "      <td>0</td>\n",
              "      <td>6</td>\n",
              "    </tr>\n",
              "    <tr>\n",
              "      <th>3</th>\n",
              "      <td>Natalie Coughlin</td>\n",
              "      <td>25.0</td>\n",
              "      <td>United States</td>\n",
              "      <td>2008</td>\n",
              "      <td>2008-08-24</td>\n",
              "      <td>Swimming</td>\n",
              "      <td>1</td>\n",
              "      <td>2</td>\n",
              "      <td>3</td>\n",
              "      <td>6</td>\n",
              "    </tr>\n",
              "    <tr>\n",
              "      <th>4</th>\n",
              "      <td>Aleksey Nemov</td>\n",
              "      <td>24.0</td>\n",
              "      <td>Russia</td>\n",
              "      <td>2000</td>\n",
              "      <td>2000-10-01</td>\n",
              "      <td>Gymnastics</td>\n",
              "      <td>2</td>\n",
              "      <td>1</td>\n",
              "      <td>3</td>\n",
              "      <td>6</td>\n",
              "    </tr>\n",
              "  </tbody>\n",
              "</table>\n",
              "</div>\n",
              "      <button class=\"colab-df-convert\" onclick=\"convertToInteractive('df-595d18aa-3148-4299-ad53-854738e929bd')\"\n",
              "              title=\"Convert this dataframe to an interactive table.\"\n",
              "              style=\"display:none;\">\n",
              "        \n",
              "  <svg xmlns=\"http://www.w3.org/2000/svg\" height=\"24px\"viewBox=\"0 0 24 24\"\n",
              "       width=\"24px\">\n",
              "    <path d=\"M0 0h24v24H0V0z\" fill=\"none\"/>\n",
              "    <path d=\"M18.56 5.44l.94 2.06.94-2.06 2.06-.94-2.06-.94-.94-2.06-.94 2.06-2.06.94zm-11 1L8.5 8.5l.94-2.06 2.06-.94-2.06-.94L8.5 2.5l-.94 2.06-2.06.94zm10 10l.94 2.06.94-2.06 2.06-.94-2.06-.94-.94-2.06-.94 2.06-2.06.94z\"/><path d=\"M17.41 7.96l-1.37-1.37c-.4-.4-.92-.59-1.43-.59-.52 0-1.04.2-1.43.59L10.3 9.45l-7.72 7.72c-.78.78-.78 2.05 0 2.83L4 21.41c.39.39.9.59 1.41.59.51 0 1.02-.2 1.41-.59l7.78-7.78 2.81-2.81c.8-.78.8-2.07 0-2.86zM5.41 20L4 18.59l7.72-7.72 1.47 1.35L5.41 20z\"/>\n",
              "  </svg>\n",
              "      </button>\n",
              "      \n",
              "  <style>\n",
              "    .colab-df-container {\n",
              "      display:flex;\n",
              "      flex-wrap:wrap;\n",
              "      gap: 12px;\n",
              "    }\n",
              "\n",
              "    .colab-df-convert {\n",
              "      background-color: #E8F0FE;\n",
              "      border: none;\n",
              "      border-radius: 50%;\n",
              "      cursor: pointer;\n",
              "      display: none;\n",
              "      fill: #1967D2;\n",
              "      height: 32px;\n",
              "      padding: 0 0 0 0;\n",
              "      width: 32px;\n",
              "    }\n",
              "\n",
              "    .colab-df-convert:hover {\n",
              "      background-color: #E2EBFA;\n",
              "      box-shadow: 0px 1px 2px rgba(60, 64, 67, 0.3), 0px 1px 3px 1px rgba(60, 64, 67, 0.15);\n",
              "      fill: #174EA6;\n",
              "    }\n",
              "\n",
              "    [theme=dark] .colab-df-convert {\n",
              "      background-color: #3B4455;\n",
              "      fill: #D2E3FC;\n",
              "    }\n",
              "\n",
              "    [theme=dark] .colab-df-convert:hover {\n",
              "      background-color: #434B5C;\n",
              "      box-shadow: 0px 1px 3px 1px rgba(0, 0, 0, 0.15);\n",
              "      filter: drop-shadow(0px 1px 2px rgba(0, 0, 0, 0.3));\n",
              "      fill: #FFFFFF;\n",
              "    }\n",
              "  </style>\n",
              "\n",
              "      <script>\n",
              "        const buttonEl =\n",
              "          document.querySelector('#df-595d18aa-3148-4299-ad53-854738e929bd button.colab-df-convert');\n",
              "        buttonEl.style.display =\n",
              "          google.colab.kernel.accessAllowed ? 'block' : 'none';\n",
              "\n",
              "        async function convertToInteractive(key) {\n",
              "          const element = document.querySelector('#df-595d18aa-3148-4299-ad53-854738e929bd');\n",
              "          const dataTable =\n",
              "            await google.colab.kernel.invokeFunction('convertToInteractive',\n",
              "                                                     [key], {});\n",
              "          if (!dataTable) return;\n",
              "\n",
              "          const docLinkHtml = 'Like what you see? Visit the ' +\n",
              "            '<a target=\"_blank\" href=https://colab.research.google.com/notebooks/data_table.ipynb>data table notebook</a>'\n",
              "            + ' to learn more about interactive tables.';\n",
              "          element.innerHTML = '';\n",
              "          dataTable['output_type'] = 'display_data';\n",
              "          await google.colab.output.renderOutput(dataTable, element);\n",
              "          const docLink = document.createElement('div');\n",
              "          docLink.innerHTML = docLinkHtml;\n",
              "          element.appendChild(docLink);\n",
              "        }\n",
              "      </script>\n",
              "    </div>\n",
              "  </div>\n",
              "  "
            ]
          },
          "metadata": {},
          "execution_count": 5
        }
      ]
    },
    {
      "cell_type": "code",
      "source": [
        "##I.Which countries have won the most medals?\n",
        "medals = df.groupby('Country')\n",
        "medals = medals['Total Medals'].sum()\n",
        "medals = medals.sort_values(ascending=False)\n",
        "medals.head()"
      ],
      "metadata": {
        "colab": {
          "base_uri": "https://localhost:8080/"
        },
        "id": "GPBHYDWl00ru",
        "outputId": "e38de7e4-c48d-4307-abd2-a89c93301db5"
      },
      "execution_count": null,
      "outputs": [
        {
          "output_type": "execute_result",
          "data": {
            "text/plain": [
              "Country\n",
              "United States    1312\n",
              "Russia            768\n",
              "Germany           629\n",
              "Australia         609\n",
              "China             530\n",
              "Name: Total Medals, dtype: int64"
            ]
          },
          "metadata": {},
          "execution_count": 17
        }
      ]
    },
    {
      "cell_type": "code",
      "source": [
        "#II.Which countries have won the most gold medals\n",
        "gold_medals = df.groupby('Country')\n",
        "gold_medals = gold_medals['Gold Medals'].sum().sort_values(ascending=False)\n",
        "gold_medals.head()"
      ],
      "metadata": {
        "colab": {
          "base_uri": "https://localhost:8080/"
        },
        "id": "0Z6-v6gyxr0Q",
        "outputId": "7f500c70-6f39-42af-ed68-1d57a8f8fbd4"
      },
      "execution_count": null,
      "outputs": [
        {
          "output_type": "execute_result",
          "data": {
            "text/plain": [
              "Country\n",
              "United States    552\n",
              "Russia           234\n",
              "China            234\n",
              "Germany          223\n",
              "Canada           168\n",
              "Name: Gold Medals, dtype: int64"
            ]
          },
          "metadata": {},
          "execution_count": 18
        }
      ]
    },
    {
      "cell_type": "code",
      "source": [
        "#III.Which countries have won the most medals in a particular sport?\n",
        "x = input('enter sport:')\n",
        "sport_medals = df[df['Sport']==x]\n",
        "medals = sport_medals.groupby('Country')['Total Medals'].sum().sort_values(ascending=False)\n",
        "medals.head()"
      ],
      "metadata": {
        "colab": {
          "base_uri": "https://localhost:8080/"
        },
        "id": "Ttl97_BKxyUW",
        "outputId": "2b61413b-a81b-49fe-c1fa-5ac6a9b4149c"
      },
      "execution_count": null,
      "outputs": [
        {
          "name": "stdout",
          "output_type": "stream",
          "text": [
            "enter sport:Swimming\n"
          ]
        },
        {
          "output_type": "execute_result",
          "data": {
            "text/plain": [
              "Country\n",
              "United States    267\n",
              "Australia        163\n",
              "Netherlands       46\n",
              "Japan             43\n",
              "France            39\n",
              "Name: Total Medals, dtype: int64"
            ]
          },
          "metadata": {},
          "execution_count": 19
        }
      ]
    },
    {
      "cell_type": "code",
      "source": [
        "#IV.Which athletes have won the most medals?\n",
        "athlete_medals = df.groupby('Athlete')\n",
        "athlete_medals = athlete_medals['Total Medals'].sum().sort_values(ascending=False)\n",
        "athlete_medals.head()"
      ],
      "metadata": {
        "colab": {
          "base_uri": "https://localhost:8080/"
        },
        "id": "30ITGG6a21Qu",
        "outputId": "7a9f1dd4-3f6a-470d-c9b0-ba015d03d7fd"
      },
      "execution_count": null,
      "outputs": [
        {
          "output_type": "execute_result",
          "data": {
            "text/plain": [
              "Athlete\n",
              "Michael Phelps          22\n",
              "Natalie Coughlin        12\n",
              "Ryan Lochte             11\n",
              "Leisel Jones             9\n",
              "Ole Einar Bjørndalen     9\n",
              "Name: Total Medals, dtype: int64"
            ]
          },
          "metadata": {},
          "execution_count": 20
        }
      ]
    },
    {
      "cell_type": "code",
      "source": [
        "#V.Which athletes have won the most gold medals?\n",
        "athlete_Goldmedals = df.groupby('Athlete')\n",
        "athlete_Goldmedals = athlete_Goldmedals['Gold Medals'].sum().sort_values(ascending=False)\n",
        "athlete_Goldmedals.head()"
      ],
      "metadata": {
        "colab": {
          "base_uri": "https://localhost:8080/"
        },
        "id": "6GV8FhZm28Y1",
        "outputId": "f4c82923-2e67-4952-eea2-573271e4559f"
      },
      "execution_count": null,
      "outputs": [
        {
          "output_type": "execute_result",
          "data": {
            "text/plain": [
              "Athlete\n",
              "Michael Phelps          18\n",
              "Chris Hoy                6\n",
              "Usain Bolt               6\n",
              "Ole Einar Bjørndalen     5\n",
              "Ian Thorpe               5\n",
              "Name: Gold Medals, dtype: int64"
            ]
          },
          "metadata": {},
          "execution_count": 21
        }
      ]
    },
    {
      "cell_type": "code",
      "source": [
        "#VI.Which athletes have won the most medals in a particular sport?\n",
        "x = input('Enter Sport Name:')\n",
        "athlete_sportmedals = df[df['Sport']==x]\n",
        "athlete_sportmedals = athlete_sportmedals.groupby('Athlete')['Total Medals'].sum().sort_values(ascending=False)\n",
        "athlete_sportmedals.head()"
      ],
      "metadata": {
        "colab": {
          "base_uri": "https://localhost:8080/"
        },
        "id": "h8pTh25C2-kV",
        "outputId": "a9db779b-9577-40ab-adb8-919ec0e85064"
      },
      "execution_count": null,
      "outputs": [
        {
          "name": "stdout",
          "output_type": "stream",
          "text": [
            "Enter Sport Name:Swimming\n"
          ]
        },
        {
          "output_type": "execute_result",
          "data": {
            "text/plain": [
              "Athlete\n",
              "Michael Phelps      22\n",
              "Natalie Coughlin    12\n",
              "Ryan Lochte         11\n",
              "Ian Thorpe           9\n",
              "Leisel Jones         9\n",
              "Name: Total Medals, dtype: int64"
            ]
          },
          "metadata": {},
          "execution_count": 24
        }
      ]
    },
    {
      "cell_type": "code",
      "source": [
        "#VII.Which age group have won the most number of medals?\n",
        "medals_age = df.groupby('Age')\n",
        "medals_age = medals_age['Total Medals'].sum().sort_values(ascending=False)\n",
        "medals_age.head()"
      ],
      "metadata": {
        "colab": {
          "base_uri": "https://localhost:8080/"
        },
        "id": "HIvjAn-y3A1t",
        "outputId": "f77abc24-1e78-46bf-b000-13a830594864"
      },
      "execution_count": null,
      "outputs": [
        {
          "output_type": "execute_result",
          "data": {
            "text/plain": [
              "Age\n",
              "24.0    807\n",
              "26.0    765\n",
              "25.0    763\n",
              "23.0    757\n",
              "27.0    724\n",
              "Name: Total Medals, dtype: int64"
            ]
          },
          "metadata": {},
          "execution_count": 25
        }
      ]
    }
  ]
}